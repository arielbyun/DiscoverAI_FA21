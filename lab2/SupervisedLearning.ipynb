{
    "metadata": {
        "kernelspec": {
            "name": "python3",
            "display_name": "Python 3 (ipykernel)",
            "language": "python"
        }
    },
    "nbformat": 4,
    "nbformat_minor": 2,
    "cells": [
        {
            "attachments": {},
            "cell_type": "markdown",
            "metadata": {},
            "source": [
                "This code is an introduction to supervised learning solving a classification problem using **decision trees**.\n",
                "It follows [this tutorial](https://youtu.be/7eh4d6sabA0). "
            ]
        },
        {
            "attachments": {},
            "cell_type": "markdown",
            "metadata": {},
            "source": [
                "# **Classification Problem**\n",
                "We will follow these steps of solving a machine learning problem.\n",
                "\n",
                "\n",
                "1. Import the Data\n",
                "2. Clean the Data\n",
                "3. split the Data into Training/ Test steps\n",
                "4. Create a Model\n",
                "5. Train the Model\n",
                "6. Make Predictions\n",
                "7. Evaluate and improve\n",
                ""
            ]
        },
        {
            "attachments": {},
            "cell_type": "markdown",
            "metadata": {},
            "source": [
                "# Problem description\n",
                "Enter in the text cell below what you will be predicting in this classification problem (y) and which columns will be used in the prediction (X)"
            ]
        },
        {
            "attachments": {},
            "cell_type": "markdown",
            "metadata": {},
            "source": [
                "I am using a bodyfat data table from kaggle. I will be predicting the body fat of a person based off of factors like density, weight, height, etc"
            ]
        },
        {
            "cell_type": "code",
            "execution_count": 24,
            "metadata": {},
            "outputs": [],
            "source": [
                "import pandas as pd\n",
                "from sklearn.tree import DecisionTreeClassifier\n",
                "from sklearn.model_selection import train_test_split\n",
                "from sklearn.metrics import accuracy_score\n",
                "import joblib\n",
                "from sklearn import tree"
            ]
        },
        {
            "attachments": {},
            "cell_type": "markdown",
            "metadata": {},
            "source": [
                "1. Import the Data."
            ]
        },
        {
            "cell_type": "code",
            "execution_count": 52,
            "metadata": {},
            "outputs": [],
            "source": [
                "bodyfat_data = pd.read_csv('bodyfat.csv')"
            ]
        },
        {
            "attachments": {},
            "cell_type": "markdown",
            "metadata": {},
            "source": [
                "2. Display columns and describe the data set"
            ]
        },
        {
            "cell_type": "code",
            "execution_count": 53,
            "metadata": {},
            "outputs": [
                {
                    "name": "stdout",
                    "output_type": "stream",
                    "text": "\u003cclass 'pandas.core.frame.DataFrame'\u003e\nRangeIndex: 252 entries, 0 to 251\nData columns (total 15 columns):\n #   Column   Non-Null Count  Dtype  \n---  ------   --------------  -----  \n 0   Density  252 non-null    float64\n 1   BodyFat  252 non-null    float64\n 2   Age      252 non-null    int64  \n 3   Weight   252 non-null    float64\n 4   Height   252 non-null    float64\n 5   Neck     252 non-null    float64\n 6   Chest    252 non-null    float64\n 7   Abdomen  252 non-null    float64\n 8   Hip      252 non-null    float64\n 9   Thigh    252 non-null    float64\n 10  Knee     252 non-null    float64\n 11  Ankle    252 non-null    float64\n 12  Biceps   252 non-null    float64\n 13  Forearm  252 non-null    float64\n 14  Wrist    252 non-null    float64\ndtypes: float64(14), int64(1)\nmemory usage: 29.7 KB\n"
                }
            ],
            "source": [
                "bodyfat_data.info()"
            ]
        },
        {
            "cell_type": "code",
            "execution_count": 54,
            "metadata": {},
            "outputs": [
                {
                    "data": {
                        "text/html": "\u003cdiv\u003e\n\u003cstyle scoped\u003e\n    .dataframe tbody tr th:only-of-type {\n        vertical-align: middle;\n    }\n\n    .dataframe tbody tr th {\n        vertical-align: top;\n    }\n\n    .dataframe thead th {\n        text-align: right;\n    }\n\u003c/style\u003e\n\u003ctable border=\"1\" class=\"dataframe\"\u003e\n  \u003cthead\u003e\n    \u003ctr style=\"text-align: right;\"\u003e\n      \u003cth\u003e\u003c/th\u003e\n      \u003cth\u003eDensity\u003c/th\u003e\n      \u003cth\u003eBodyFat\u003c/th\u003e\n      \u003cth\u003eAge\u003c/th\u003e\n      \u003cth\u003eWeight\u003c/th\u003e\n      \u003cth\u003eHeight\u003c/th\u003e\n      \u003cth\u003eNeck\u003c/th\u003e\n      \u003cth\u003eChest\u003c/th\u003e\n      \u003cth\u003eAbdomen\u003c/th\u003e\n      \u003cth\u003eHip\u003c/th\u003e\n      \u003cth\u003eThigh\u003c/th\u003e\n      \u003cth\u003eKnee\u003c/th\u003e\n      \u003cth\u003eAnkle\u003c/th\u003e\n      \u003cth\u003eBiceps\u003c/th\u003e\n      \u003cth\u003eForearm\u003c/th\u003e\n      \u003cth\u003eWrist\u003c/th\u003e\n    \u003c/tr\u003e\n  \u003c/thead\u003e\n  \u003ctbody\u003e\n    \u003ctr\u003e\n      \u003cth\u003ecount\u003c/th\u003e\n      \u003ctd\u003e252.000000\u003c/td\u003e\n      \u003ctd\u003e252.000000\u003c/td\u003e\n      \u003ctd\u003e252.000000\u003c/td\u003e\n      \u003ctd\u003e252.000000\u003c/td\u003e\n      \u003ctd\u003e252.000000\u003c/td\u003e\n      \u003ctd\u003e252.000000\u003c/td\u003e\n      \u003ctd\u003e252.000000\u003c/td\u003e\n      \u003ctd\u003e252.000000\u003c/td\u003e\n      \u003ctd\u003e252.000000\u003c/td\u003e\n      \u003ctd\u003e252.000000\u003c/td\u003e\n      \u003ctd\u003e252.000000\u003c/td\u003e\n      \u003ctd\u003e252.000000\u003c/td\u003e\n      \u003ctd\u003e252.000000\u003c/td\u003e\n      \u003ctd\u003e252.000000\u003c/td\u003e\n      \u003ctd\u003e252.000000\u003c/td\u003e\n    \u003c/tr\u003e\n    \u003ctr\u003e\n      \u003cth\u003emean\u003c/th\u003e\n      \u003ctd\u003e1.055574\u003c/td\u003e\n      \u003ctd\u003e19.150794\u003c/td\u003e\n      \u003ctd\u003e44.884921\u003c/td\u003e\n      \u003ctd\u003e178.924405\u003c/td\u003e\n      \u003ctd\u003e70.148810\u003c/td\u003e\n      \u003ctd\u003e37.992063\u003c/td\u003e\n      \u003ctd\u003e100.824206\u003c/td\u003e\n      \u003ctd\u003e92.555952\u003c/td\u003e\n      \u003ctd\u003e99.904762\u003c/td\u003e\n      \u003ctd\u003e59.405952\u003c/td\u003e\n      \u003ctd\u003e38.590476\u003c/td\u003e\n      \u003ctd\u003e23.102381\u003c/td\u003e\n      \u003ctd\u003e32.273413\u003c/td\u003e\n      \u003ctd\u003e28.663889\u003c/td\u003e\n      \u003ctd\u003e18.229762\u003c/td\u003e\n    \u003c/tr\u003e\n    \u003ctr\u003e\n      \u003cth\u003estd\u003c/th\u003e\n      \u003ctd\u003e0.019031\u003c/td\u003e\n      \u003ctd\u003e8.368740\u003c/td\u003e\n      \u003ctd\u003e12.602040\u003c/td\u003e\n      \u003ctd\u003e29.389160\u003c/td\u003e\n      \u003ctd\u003e3.662856\u003c/td\u003e\n      \u003ctd\u003e2.430913\u003c/td\u003e\n      \u003ctd\u003e8.430476\u003c/td\u003e\n      \u003ctd\u003e10.783077\u003c/td\u003e\n      \u003ctd\u003e7.164058\u003c/td\u003e\n      \u003ctd\u003e5.249952\u003c/td\u003e\n      \u003ctd\u003e2.411805\u003c/td\u003e\n      \u003ctd\u003e1.694893\u003c/td\u003e\n      \u003ctd\u003e3.021274\u003c/td\u003e\n      \u003ctd\u003e2.020691\u003c/td\u003e\n      \u003ctd\u003e0.933585\u003c/td\u003e\n    \u003c/tr\u003e\n    \u003ctr\u003e\n      \u003cth\u003emin\u003c/th\u003e\n      \u003ctd\u003e0.995000\u003c/td\u003e\n      \u003ctd\u003e0.000000\u003c/td\u003e\n      \u003ctd\u003e22.000000\u003c/td\u003e\n      \u003ctd\u003e118.500000\u003c/td\u003e\n      \u003ctd\u003e29.500000\u003c/td\u003e\n      \u003ctd\u003e31.100000\u003c/td\u003e\n      \u003ctd\u003e79.300000\u003c/td\u003e\n      \u003ctd\u003e69.400000\u003c/td\u003e\n      \u003ctd\u003e85.000000\u003c/td\u003e\n      \u003ctd\u003e47.200000\u003c/td\u003e\n      \u003ctd\u003e33.000000\u003c/td\u003e\n      \u003ctd\u003e19.100000\u003c/td\u003e\n      \u003ctd\u003e24.800000\u003c/td\u003e\n      \u003ctd\u003e21.000000\u003c/td\u003e\n      \u003ctd\u003e15.800000\u003c/td\u003e\n    \u003c/tr\u003e\n    \u003ctr\u003e\n      \u003cth\u003e25%\u003c/th\u003e\n      \u003ctd\u003e1.041400\u003c/td\u003e\n      \u003ctd\u003e12.475000\u003c/td\u003e\n      \u003ctd\u003e35.750000\u003c/td\u003e\n      \u003ctd\u003e159.000000\u003c/td\u003e\n      \u003ctd\u003e68.250000\u003c/td\u003e\n      \u003ctd\u003e36.400000\u003c/td\u003e\n      \u003ctd\u003e94.350000\u003c/td\u003e\n      \u003ctd\u003e84.575000\u003c/td\u003e\n      \u003ctd\u003e95.500000\u003c/td\u003e\n      \u003ctd\u003e56.000000\u003c/td\u003e\n      \u003ctd\u003e36.975000\u003c/td\u003e\n      \u003ctd\u003e22.000000\u003c/td\u003e\n      \u003ctd\u003e30.200000\u003c/td\u003e\n      \u003ctd\u003e27.300000\u003c/td\u003e\n      \u003ctd\u003e17.600000\u003c/td\u003e\n    \u003c/tr\u003e\n    \u003ctr\u003e\n      \u003cth\u003e50%\u003c/th\u003e\n      \u003ctd\u003e1.054900\u003c/td\u003e\n      \u003ctd\u003e19.200000\u003c/td\u003e\n      \u003ctd\u003e43.000000\u003c/td\u003e\n      \u003ctd\u003e176.500000\u003c/td\u003e\n      \u003ctd\u003e70.000000\u003c/td\u003e\n      \u003ctd\u003e38.000000\u003c/td\u003e\n      \u003ctd\u003e99.650000\u003c/td\u003e\n      \u003ctd\u003e90.950000\u003c/td\u003e\n      \u003ctd\u003e99.300000\u003c/td\u003e\n      \u003ctd\u003e59.000000\u003c/td\u003e\n      \u003ctd\u003e38.500000\u003c/td\u003e\n      \u003ctd\u003e22.800000\u003c/td\u003e\n      \u003ctd\u003e32.050000\u003c/td\u003e\n      \u003ctd\u003e28.700000\u003c/td\u003e\n      \u003ctd\u003e18.300000\u003c/td\u003e\n    \u003c/tr\u003e\n    \u003ctr\u003e\n      \u003cth\u003e75%\u003c/th\u003e\n      \u003ctd\u003e1.070400\u003c/td\u003e\n      \u003ctd\u003e25.300000\u003c/td\u003e\n      \u003ctd\u003e54.000000\u003c/td\u003e\n      \u003ctd\u003e197.000000\u003c/td\u003e\n      \u003ctd\u003e72.250000\u003c/td\u003e\n      \u003ctd\u003e39.425000\u003c/td\u003e\n      \u003ctd\u003e105.375000\u003c/td\u003e\n      \u003ctd\u003e99.325000\u003c/td\u003e\n      \u003ctd\u003e103.525000\u003c/td\u003e\n      \u003ctd\u003e62.350000\u003c/td\u003e\n      \u003ctd\u003e39.925000\u003c/td\u003e\n      \u003ctd\u003e24.000000\u003c/td\u003e\n      \u003ctd\u003e34.325000\u003c/td\u003e\n      \u003ctd\u003e30.000000\u003c/td\u003e\n      \u003ctd\u003e18.800000\u003c/td\u003e\n    \u003c/tr\u003e\n    \u003ctr\u003e\n      \u003cth\u003emax\u003c/th\u003e\n      \u003ctd\u003e1.108900\u003c/td\u003e\n      \u003ctd\u003e47.500000\u003c/td\u003e\n      \u003ctd\u003e81.000000\u003c/td\u003e\n      \u003ctd\u003e363.150000\u003c/td\u003e\n      \u003ctd\u003e77.750000\u003c/td\u003e\n      \u003ctd\u003e51.200000\u003c/td\u003e\n      \u003ctd\u003e136.200000\u003c/td\u003e\n      \u003ctd\u003e148.100000\u003c/td\u003e\n      \u003ctd\u003e147.700000\u003c/td\u003e\n      \u003ctd\u003e87.300000\u003c/td\u003e\n      \u003ctd\u003e49.100000\u003c/td\u003e\n      \u003ctd\u003e33.900000\u003c/td\u003e\n      \u003ctd\u003e45.000000\u003c/td\u003e\n      \u003ctd\u003e34.900000\u003c/td\u003e\n      \u003ctd\u003e21.400000\u003c/td\u003e\n    \u003c/tr\u003e\n  \u003c/tbody\u003e\n\u003c/table\u003e\n\u003c/div\u003e",
                        "text/plain": "          Density     BodyFat         Age      Weight      Height        Neck  \\\ncount  252.000000  252.000000  252.000000  252.000000  252.000000  252.000000   \nmean     1.055574   19.150794   44.884921  178.924405   70.148810   37.992063   \nstd      0.019031    8.368740   12.602040   29.389160    3.662856    2.430913   \nmin      0.995000    0.000000   22.000000  118.500000   29.500000   31.100000   \n25%      1.041400   12.475000   35.750000  159.000000   68.250000   36.400000   \n50%      1.054900   19.200000   43.000000  176.500000   70.000000   38.000000   \n75%      1.070400   25.300000   54.000000  197.000000   72.250000   39.425000   \nmax      1.108900   47.500000   81.000000  363.150000   77.750000   51.200000   \n\n            Chest     Abdomen         Hip       Thigh        Knee       Ankle  \\\ncount  252.000000  252.000000  252.000000  252.000000  252.000000  252.000000   \nmean   100.824206   92.555952   99.904762   59.405952   38.590476   23.102381   \nstd      8.430476   10.783077    7.164058    5.249952    2.411805    1.694893   \nmin     79.300000   69.400000   85.000000   47.200000   33.000000   19.100000   \n25%     94.350000   84.575000   95.500000   56.000000   36.975000   22.000000   \n50%     99.650000   90.950000   99.300000   59.000000   38.500000   22.800000   \n75%    105.375000   99.325000  103.525000   62.350000   39.925000   24.000000   \nmax    136.200000  148.100000  147.700000   87.300000   49.100000   33.900000   \n\n           Biceps     Forearm       Wrist  \ncount  252.000000  252.000000  252.000000  \nmean    32.273413   28.663889   18.229762  \nstd      3.021274    2.020691    0.933585  \nmin     24.800000   21.000000   15.800000  \n25%     30.200000   27.300000   17.600000  \n50%     32.050000   28.700000   18.300000  \n75%     34.325000   30.000000   18.800000  \nmax     45.000000   34.900000   21.400000  "
                    },
                    "execution_count": 54,
                    "metadata": {},
                    "output_type": "execute_result"
                }
            ],
            "source": [
                "bodyfat_data.describe()"
            ]
        },
        {
            "attachments": {},
            "cell_type": "markdown",
            "metadata": {},
            "source": [
                "3. Prepare Data"
            ]
        },
        {
            "cell_type": "code",
            "execution_count": 56,
            "metadata": {},
            "outputs": [
                {
                    "data": {
                        "text/html": "\u003cdiv\u003e\n\u003cstyle scoped\u003e\n    .dataframe tbody tr th:only-of-type {\n        vertical-align: middle;\n    }\n\n    .dataframe tbody tr th {\n        vertical-align: top;\n    }\n\n    .dataframe thead th {\n        text-align: right;\n    }\n\u003c/style\u003e\n\u003ctable border=\"1\" class=\"dataframe\"\u003e\n  \u003cthead\u003e\n    \u003ctr style=\"text-align: right;\"\u003e\n      \u003cth\u003e\u003c/th\u003e\n      \u003cth\u003eDensity\u003c/th\u003e\n      \u003cth\u003eAge\u003c/th\u003e\n      \u003cth\u003eWeight\u003c/th\u003e\n      \u003cth\u003eHeight\u003c/th\u003e\n      \u003cth\u003eNeck\u003c/th\u003e\n      \u003cth\u003eChest\u003c/th\u003e\n      \u003cth\u003eAbdomen\u003c/th\u003e\n      \u003cth\u003eHip\u003c/th\u003e\n      \u003cth\u003eThigh\u003c/th\u003e\n      \u003cth\u003eKnee\u003c/th\u003e\n      \u003cth\u003eAnkle\u003c/th\u003e\n      \u003cth\u003eBiceps\u003c/th\u003e\n      \u003cth\u003eForearm\u003c/th\u003e\n      \u003cth\u003eWrist\u003c/th\u003e\n    \u003c/tr\u003e\n  \u003c/thead\u003e\n  \u003ctbody\u003e\n    \u003ctr\u003e\n      \u003cth\u003e0\u003c/th\u003e\n      \u003ctd\u003e1.0708\u003c/td\u003e\n      \u003ctd\u003e23\u003c/td\u003e\n      \u003ctd\u003e154.25\u003c/td\u003e\n      \u003ctd\u003e67.75\u003c/td\u003e\n      \u003ctd\u003e36.2\u003c/td\u003e\n      \u003ctd\u003e93.1\u003c/td\u003e\n      \u003ctd\u003e85.2\u003c/td\u003e\n      \u003ctd\u003e94.5\u003c/td\u003e\n      \u003ctd\u003e59.0\u003c/td\u003e\n      \u003ctd\u003e37.3\u003c/td\u003e\n      \u003ctd\u003e21.9\u003c/td\u003e\n      \u003ctd\u003e32.0\u003c/td\u003e\n      \u003ctd\u003e27.4\u003c/td\u003e\n      \u003ctd\u003e17.1\u003c/td\u003e\n    \u003c/tr\u003e\n    \u003ctr\u003e\n      \u003cth\u003e1\u003c/th\u003e\n      \u003ctd\u003e1.0853\u003c/td\u003e\n      \u003ctd\u003e22\u003c/td\u003e\n      \u003ctd\u003e173.25\u003c/td\u003e\n      \u003ctd\u003e72.25\u003c/td\u003e\n      \u003ctd\u003e38.5\u003c/td\u003e\n      \u003ctd\u003e93.6\u003c/td\u003e\n      \u003ctd\u003e83.0\u003c/td\u003e\n      \u003ctd\u003e98.7\u003c/td\u003e\n      \u003ctd\u003e58.7\u003c/td\u003e\n      \u003ctd\u003e37.3\u003c/td\u003e\n      \u003ctd\u003e23.4\u003c/td\u003e\n      \u003ctd\u003e30.5\u003c/td\u003e\n      \u003ctd\u003e28.9\u003c/td\u003e\n      \u003ctd\u003e18.2\u003c/td\u003e\n    \u003c/tr\u003e\n    \u003ctr\u003e\n      \u003cth\u003e2\u003c/th\u003e\n      \u003ctd\u003e1.0414\u003c/td\u003e\n      \u003ctd\u003e22\u003c/td\u003e\n      \u003ctd\u003e154.00\u003c/td\u003e\n      \u003ctd\u003e66.25\u003c/td\u003e\n      \u003ctd\u003e34.0\u003c/td\u003e\n      \u003ctd\u003e95.8\u003c/td\u003e\n      \u003ctd\u003e87.9\u003c/td\u003e\n      \u003ctd\u003e99.2\u003c/td\u003e\n      \u003ctd\u003e59.6\u003c/td\u003e\n      \u003ctd\u003e38.9\u003c/td\u003e\n      \u003ctd\u003e24.0\u003c/td\u003e\n      \u003ctd\u003e28.8\u003c/td\u003e\n      \u003ctd\u003e25.2\u003c/td\u003e\n      \u003ctd\u003e16.6\u003c/td\u003e\n    \u003c/tr\u003e\n    \u003ctr\u003e\n      \u003cth\u003e3\u003c/th\u003e\n      \u003ctd\u003e1.0751\u003c/td\u003e\n      \u003ctd\u003e26\u003c/td\u003e\n      \u003ctd\u003e184.75\u003c/td\u003e\n      \u003ctd\u003e72.25\u003c/td\u003e\n      \u003ctd\u003e37.4\u003c/td\u003e\n      \u003ctd\u003e101.8\u003c/td\u003e\n      \u003ctd\u003e86.4\u003c/td\u003e\n      \u003ctd\u003e101.2\u003c/td\u003e\n      \u003ctd\u003e60.1\u003c/td\u003e\n      \u003ctd\u003e37.3\u003c/td\u003e\n      \u003ctd\u003e22.8\u003c/td\u003e\n      \u003ctd\u003e32.4\u003c/td\u003e\n      \u003ctd\u003e29.4\u003c/td\u003e\n      \u003ctd\u003e18.2\u003c/td\u003e\n    \u003c/tr\u003e\n    \u003ctr\u003e\n      \u003cth\u003e4\u003c/th\u003e\n      \u003ctd\u003e1.0340\u003c/td\u003e\n      \u003ctd\u003e24\u003c/td\u003e\n      \u003ctd\u003e184.25\u003c/td\u003e\n      \u003ctd\u003e71.25\u003c/td\u003e\n      \u003ctd\u003e34.4\u003c/td\u003e\n      \u003ctd\u003e97.3\u003c/td\u003e\n      \u003ctd\u003e100.0\u003c/td\u003e\n      \u003ctd\u003e101.9\u003c/td\u003e\n      \u003ctd\u003e63.2\u003c/td\u003e\n      \u003ctd\u003e42.2\u003c/td\u003e\n      \u003ctd\u003e24.0\u003c/td\u003e\n      \u003ctd\u003e32.2\u003c/td\u003e\n      \u003ctd\u003e27.7\u003c/td\u003e\n      \u003ctd\u003e17.7\u003c/td\u003e\n    \u003c/tr\u003e\n    \u003ctr\u003e\n      \u003cth\u003e...\u003c/th\u003e\n      \u003ctd\u003e...\u003c/td\u003e\n      \u003ctd\u003e...\u003c/td\u003e\n      \u003ctd\u003e...\u003c/td\u003e\n      \u003ctd\u003e...\u003c/td\u003e\n      \u003ctd\u003e...\u003c/td\u003e\n      \u003ctd\u003e...\u003c/td\u003e\n      \u003ctd\u003e...\u003c/td\u003e\n      \u003ctd\u003e...\u003c/td\u003e\n      \u003ctd\u003e...\u003c/td\u003e\n      \u003ctd\u003e...\u003c/td\u003e\n      \u003ctd\u003e...\u003c/td\u003e\n      \u003ctd\u003e...\u003c/td\u003e\n      \u003ctd\u003e...\u003c/td\u003e\n      \u003ctd\u003e...\u003c/td\u003e\n    \u003c/tr\u003e\n    \u003ctr\u003e\n      \u003cth\u003e247\u003c/th\u003e\n      \u003ctd\u003e1.0736\u003c/td\u003e\n      \u003ctd\u003e70\u003c/td\u003e\n      \u003ctd\u003e134.25\u003c/td\u003e\n      \u003ctd\u003e67.00\u003c/td\u003e\n      \u003ctd\u003e34.9\u003c/td\u003e\n      \u003ctd\u003e89.2\u003c/td\u003e\n      \u003ctd\u003e83.6\u003c/td\u003e\n      \u003ctd\u003e88.8\u003c/td\u003e\n      \u003ctd\u003e49.6\u003c/td\u003e\n      \u003ctd\u003e34.8\u003c/td\u003e\n      \u003ctd\u003e21.5\u003c/td\u003e\n      \u003ctd\u003e25.6\u003c/td\u003e\n      \u003ctd\u003e25.7\u003c/td\u003e\n      \u003ctd\u003e18.5\u003c/td\u003e\n    \u003c/tr\u003e\n    \u003ctr\u003e\n      \u003cth\u003e248\u003c/th\u003e\n      \u003ctd\u003e1.0236\u003c/td\u003e\n      \u003ctd\u003e72\u003c/td\u003e\n      \u003ctd\u003e201.00\u003c/td\u003e\n      \u003ctd\u003e69.75\u003c/td\u003e\n      \u003ctd\u003e40.9\u003c/td\u003e\n      \u003ctd\u003e108.5\u003c/td\u003e\n      \u003ctd\u003e105.0\u003c/td\u003e\n      \u003ctd\u003e104.5\u003c/td\u003e\n      \u003ctd\u003e59.6\u003c/td\u003e\n      \u003ctd\u003e40.8\u003c/td\u003e\n      \u003ctd\u003e23.2\u003c/td\u003e\n      \u003ctd\u003e35.2\u003c/td\u003e\n      \u003ctd\u003e28.6\u003c/td\u003e\n      \u003ctd\u003e20.1\u003c/td\u003e\n    \u003c/tr\u003e\n    \u003ctr\u003e\n      \u003cth\u003e249\u003c/th\u003e\n      \u003ctd\u003e1.0328\u003c/td\u003e\n      \u003ctd\u003e72\u003c/td\u003e\n      \u003ctd\u003e186.75\u003c/td\u003e\n      \u003ctd\u003e66.00\u003c/td\u003e\n      \u003ctd\u003e38.9\u003c/td\u003e\n      \u003ctd\u003e111.1\u003c/td\u003e\n      \u003ctd\u003e111.5\u003c/td\u003e\n      \u003ctd\u003e101.7\u003c/td\u003e\n      \u003ctd\u003e60.3\u003c/td\u003e\n      \u003ctd\u003e37.3\u003c/td\u003e\n      \u003ctd\u003e21.5\u003c/td\u003e\n      \u003ctd\u003e31.3\u003c/td\u003e\n      \u003ctd\u003e27.2\u003c/td\u003e\n      \u003ctd\u003e18.0\u003c/td\u003e\n    \u003c/tr\u003e\n    \u003ctr\u003e\n      \u003cth\u003e250\u003c/th\u003e\n      \u003ctd\u003e1.0399\u003c/td\u003e\n      \u003ctd\u003e72\u003c/td\u003e\n      \u003ctd\u003e190.75\u003c/td\u003e\n      \u003ctd\u003e70.50\u003c/td\u003e\n      \u003ctd\u003e38.9\u003c/td\u003e\n      \u003ctd\u003e108.3\u003c/td\u003e\n      \u003ctd\u003e101.3\u003c/td\u003e\n      \u003ctd\u003e97.8\u003c/td\u003e\n      \u003ctd\u003e56.0\u003c/td\u003e\n      \u003ctd\u003e41.6\u003c/td\u003e\n      \u003ctd\u003e22.7\u003c/td\u003e\n      \u003ctd\u003e30.5\u003c/td\u003e\n      \u003ctd\u003e29.4\u003c/td\u003e\n      \u003ctd\u003e19.8\u003c/td\u003e\n    \u003c/tr\u003e\n    \u003ctr\u003e\n      \u003cth\u003e251\u003c/th\u003e\n      \u003ctd\u003e1.0271\u003c/td\u003e\n      \u003ctd\u003e74\u003c/td\u003e\n      \u003ctd\u003e207.50\u003c/td\u003e\n      \u003ctd\u003e70.00\u003c/td\u003e\n      \u003ctd\u003e40.8\u003c/td\u003e\n      \u003ctd\u003e112.4\u003c/td\u003e\n      \u003ctd\u003e108.5\u003c/td\u003e\n      \u003ctd\u003e107.1\u003c/td\u003e\n      \u003ctd\u003e59.3\u003c/td\u003e\n      \u003ctd\u003e42.2\u003c/td\u003e\n      \u003ctd\u003e24.6\u003c/td\u003e\n      \u003ctd\u003e33.7\u003c/td\u003e\n      \u003ctd\u003e30.0\u003c/td\u003e\n      \u003ctd\u003e20.9\u003c/td\u003e\n    \u003c/tr\u003e\n  \u003c/tbody\u003e\n\u003c/table\u003e\n\u003cp\u003e252 rows × 14 columns\u003c/p\u003e\n\u003c/div\u003e",
                        "text/plain": "     Density  Age  Weight  Height  Neck  Chest  Abdomen    Hip  Thigh  Knee  \\\n0     1.0708   23  154.25   67.75  36.2   93.1     85.2   94.5   59.0  37.3   \n1     1.0853   22  173.25   72.25  38.5   93.6     83.0   98.7   58.7  37.3   \n2     1.0414   22  154.00   66.25  34.0   95.8     87.9   99.2   59.6  38.9   \n3     1.0751   26  184.75   72.25  37.4  101.8     86.4  101.2   60.1  37.3   \n4     1.0340   24  184.25   71.25  34.4   97.3    100.0  101.9   63.2  42.2   \n..       ...  ...     ...     ...   ...    ...      ...    ...    ...   ...   \n247   1.0736   70  134.25   67.00  34.9   89.2     83.6   88.8   49.6  34.8   \n248   1.0236   72  201.00   69.75  40.9  108.5    105.0  104.5   59.6  40.8   \n249   1.0328   72  186.75   66.00  38.9  111.1    111.5  101.7   60.3  37.3   \n250   1.0399   72  190.75   70.50  38.9  108.3    101.3   97.8   56.0  41.6   \n251   1.0271   74  207.50   70.00  40.8  112.4    108.5  107.1   59.3  42.2   \n\n     Ankle  Biceps  Forearm  Wrist  \n0     21.9    32.0     27.4   17.1  \n1     23.4    30.5     28.9   18.2  \n2     24.0    28.8     25.2   16.6  \n3     22.8    32.4     29.4   18.2  \n4     24.0    32.2     27.7   17.7  \n..     ...     ...      ...    ...  \n247   21.5    25.6     25.7   18.5  \n248   23.2    35.2     28.6   20.1  \n249   21.5    31.3     27.2   18.0  \n250   22.7    30.5     29.4   19.8  \n251   24.6    33.7     30.0   20.9  \n\n[252 rows x 14 columns]"
                    },
                    "execution_count": 56,
                    "metadata": {},
                    "output_type": "execute_result"
                }
            ],
            "source": [
                "# Run this section to inspect X\n",
                "X = bodyfat_data.drop(columns = ['BodyFat'])\n",
                "X"
            ]
        },
        {
            "cell_type": "code",
            "execution_count": 57,
            "metadata": {},
            "outputs": [
                {
                    "data": {
                        "text/plain": "0      12.3\n1       6.1\n2      25.3\n3      10.4\n4      28.7\n       ... \n247    11.0\n248    33.6\n249    29.3\n250    26.0\n251    31.9\nName: BodyFat, Length: 252, dtype: float64"
                    },
                    "execution_count": 57,
                    "metadata": {},
                    "output_type": "execute_result"
                }
            ],
            "source": [
                "# Uncomment this section to inpect y\n",
                "y = bodyfat_data['BodyFat']\n",
                "y"
            ]
        },
        {
            "attachments": {},
            "cell_type": "markdown",
            "metadata": {},
            "source": [
                "4. Calculate accuracy"
            ]
        },
        {
            "cell_type": "code",
            "execution_count": 64,
            "metadata": {},
            "outputs": [],
            "source": [
                "# Train 80% of the data set and use the rest to test\n",
                "X_train, X_test, y_train, y_test = train_test_split(X, y, test_size=0.2)\n",
                "\n",
                "model = DecisionTreeClassifier()\n",
                "model.fit(X_train, y_train)\n",
                "predictions = model.predict(X_test)\n",
                "\n",
                "# Compute model accuracy\n",
                "score = accuracy_score(y_test, predictions)\n",
                "score"
            ]
        },
        {
            "attachments": {},
            "cell_type": "markdown",
            "metadata": {},
            "source": [
                "5. Persisting Models"
            ]
        },
        {
            "cell_type": "code",
            "execution_count": 59,
            "metadata": {},
            "outputs": [
                {
                    "data": {
                        "text/plain": "['bodyfat-predictor.joblib']"
                    },
                    "execution_count": 59,
                    "metadata": {},
                    "output_type": "execute_result"
                }
            ],
            "source": [
                "# Save the model to file\n",
                "joblib.dump(model, 'bodyfat-predictor.joblib')\n",
                ""
            ]
        },
        {
            "attachments": {},
            "cell_type": "markdown",
            "metadata": {},
            "source": [
                "5.b. Import the model and make predictions"
            ]
        },
        {
            "cell_type": "code",
            "execution_count": 63,
            "metadata": {},
            "outputs": [],
            "source": [
                "# Load saved model. Make sure that you have run the previous\n",
                "# section at least once, and that the file exists.\n",
                "\n",
                "model = joblib.load('bodyfat-predictor.joblib')\n",
                "predictions = model.predict([[1.0708, 23, 154.25, 67.75, 36.2, 93.1, 85.2, 94.5, 59.0, 37.3, 21.9, 32.0, 27.4, 17.1]])\n",
                "predictions"
            ]
        },
        {
            "attachments": {},
            "cell_type": "markdown",
            "metadata": {},
            "source": [
                "6. (Optional) Visualize decision trees"
            ]
        },
        {
            "cell_type": "code",
            "execution_count": 60,
            "metadata": {},
            "outputs": [],
            "source": [
                "tree.export_graphviz(model, out_file = 'bodyfat-predictor.dot',\n",
                "                    feature_names = ['density', 'age', 'weight', 'height', 'neck', 'chest', 'abdomen', 'hip', 'thigh', 'knee', 'ankle', 'biceps', 'forearm', 'wrist'], \n",
                "                    class_names = str(sorted(y.unique())), \n",
                "                    label = 'all',\n",
                "                    rounded = True, \n",
                "                    filled = True)\n",
                "\n",
                "#Download the file music-recommender.dot and open it in VS Code.\n",
                ""
            ]
        }
    ]
}
